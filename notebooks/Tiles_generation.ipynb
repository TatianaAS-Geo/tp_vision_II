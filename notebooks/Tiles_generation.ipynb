{
  "nbformat": 4,
  "nbformat_minor": 0,
  "metadata": {
    "colab": {
      "provenance": []
    },
    "kernelspec": {
      "name": "python3",
      "display_name": "Python 3"
    },
    "language_info": {
      "name": "python"
    }
  },
  "cells": [
    {
      "cell_type": "code",
      "execution_count": null,
      "metadata": {
        "colab": {
          "base_uri": "https://localhost:8080/"
        },
        "id": "CzJEv8gTNfgT",
        "outputId": "7c2f27d5-4af1-422e-9799-c0d756e33338"
      },
      "outputs": [
        {
          "output_type": "stream",
          "name": "stdout",
          "text": [
            "Looking in indexes: https://pypi.org/simple, https://us-python.pkg.dev/colab-wheels/public/simple/\n",
            "Collecting mercantile\n",
            "  Downloading mercantile-1.2.1-py3-none-any.whl (14 kB)\n",
            "Requirement already satisfied: click>=3.0 in /usr/local/lib/python3.10/dist-packages (from mercantile) (8.1.3)\n",
            "Installing collected packages: mercantile\n",
            "Successfully installed mercantile-1.2.1\n",
            "Looking in indexes: https://pypi.org/simple, https://us-python.pkg.dev/colab-wheels/public/simple/\n",
            "Requirement already satisfied: pillow in /usr/local/lib/python3.10/dist-packages (8.4.0)\n"
          ]
        }
      ],
      "source": [
        "!pip install mercantile\n",
        "!pip install pillow"
      ]
    },
    {
      "cell_type": "code",
      "source": [
        "from google.colab import drive\n",
        "drive.mount('/content/drive')"
      ],
      "metadata": {
        "colab": {
          "base_uri": "https://localhost:8080/"
        },
        "id": "RJwvCYT0My8N",
        "outputId": "ce0bc0ee-5cee-4f29-92e7-4764cf4d1101"
      },
      "execution_count": null,
      "outputs": [
        {
          "output_type": "stream",
          "name": "stdout",
          "text": [
            "Mounted at /content/drive\n"
          ]
        }
      ]
    },
    {
      "cell_type": "code",
      "source": [
        "!mkdir /content/drive/MyDrive/Final_model/35.36-79.17_17/\n",
        "#!mkdir ./elevation_images\n",
        "#!mkdir ./composite_images"
      ],
      "metadata": {
        "id": "xH0F1CndPKTg"
      },
      "execution_count": null,
      "outputs": []
    },
    {
      "cell_type": "code",
      "source": [
        "#lat_lng = [35.482597, -79.206708]\n",
        "lat_lng = [35.360077,-79.17186]\n",
        "#lat_lng = [41.335480, -88.718504]\n",
        "\n",
        "delta = 0.02\n",
        "tl = [lat_lng[0]+delta, lat_lng[1]-delta]\n",
        "\n",
        "br = [lat_lng[0]-delta, lat_lng[1]+delta]\n",
        "z = 17 # Set the resolution (max at 18)"
      ],
      "metadata": {
        "id": "JJBPbthtNh33"
      },
      "execution_count": null,
      "outputs": []
    },
    {
      "cell_type": "code",
      "source": [
        "import requests # The requests package allows use to call URLS\n",
        "import shutil   # shutil will be used to copy the image to the local"
      ],
      "metadata": {
        "id": "d1MChGsdO0Ba"
      },
      "execution_count": null,
      "outputs": []
    },
    {
      "cell_type": "code",
      "source": [
        "#Mercantile is a module of utilities for working with XYZ style spherical mercator tiles (as in Google Maps, OSM, Mapbox, etc.)\n",
        "\n",
        "import mercantile\n",
        "\n",
        "tl_tiles = mercantile.tile(tl[1],tl[0],z)\n",
        "br_tiles = mercantile.tile(br[1],br[0],z)\n",
        "\n",
        "x_tile_range = [tl_tiles.x,br_tiles.x];print(x_tile_range)\n",
        "y_tile_range = [tl_tiles.y,br_tiles.y];print(y_tile_range)"
      ],
      "metadata": {
        "colab": {
          "base_uri": "https://localhost:8080/"
        },
        "id": "O2JuNQSeR61s",
        "outputId": "94390fe0-92bc-4517-b82c-493162c3b775"
      },
      "execution_count": null,
      "outputs": [
        {
          "output_type": "stream",
          "name": "stdout",
          "text": [
            "[36703, 36717]\n",
            "[51748, 51765]\n"
          ]
        }
      ]
    },
    {
      "cell_type": "code",
      "source": [
        "for i,x in enumerate(range(x_tile_range[0],x_tile_range[1]+1)):\n",
        "    for j,y in enumerate(range(y_tile_range[0],y_tile_range[1]+1)):\n",
        "        print(x,y)\n",
        "        r = requests.get('https://api.mapbox.com/v4/mapbox.satellite/'+str(z)+'/'+str(x)+'/'+str(y)+'@2x.pngraw?access_token=pk.eyJ1IjoidGF0aWFzIiwiYSI6ImNsaTFxaGF3ajFvd3EzZW9pZjZkanAxNWgifQ.wfV9iK-TJjEmuQzZEGdETg', stream=True)\n",
        "        if r.status_code == 200:\n",
        "            with open('/content/drive/MyDrive/Final_model/35.36-79.17_17/' + str(x) + '_' + str(y) + '_' + str(z) + '.png', 'wb') as f:\n",
        "                r.raw.decode_content = True\n",
        "                shutil.copyfileobj(r.raw, f)"
      ],
      "metadata": {
        "colab": {
          "base_uri": "https://localhost:8080/"
        },
        "id": "2eK1kwNcO0rH",
        "outputId": "f7c3bff6-6346-4b08-8518-093982a41135"
      },
      "execution_count": null,
      "outputs": [
        {
          "output_type": "stream",
          "name": "stdout",
          "text": [
            "36703 51748\n",
            "36703 51749\n",
            "36703 51750\n",
            "36703 51751\n",
            "36703 51752\n",
            "36703 51753\n",
            "36703 51754\n",
            "36703 51755\n",
            "36703 51756\n",
            "36703 51757\n",
            "36703 51758\n",
            "36703 51759\n",
            "36703 51760\n",
            "36703 51761\n",
            "36703 51762\n",
            "36703 51763\n",
            "36703 51764\n",
            "36703 51765\n",
            "36704 51748\n",
            "36704 51749\n",
            "36704 51750\n",
            "36704 51751\n",
            "36704 51752\n",
            "36704 51753\n",
            "36704 51754\n",
            "36704 51755\n",
            "36704 51756\n",
            "36704 51757\n",
            "36704 51758\n",
            "36704 51759\n",
            "36704 51760\n",
            "36704 51761\n",
            "36704 51762\n",
            "36704 51763\n",
            "36704 51764\n",
            "36704 51765\n",
            "36705 51748\n",
            "36705 51749\n",
            "36705 51750\n",
            "36705 51751\n",
            "36705 51752\n",
            "36705 51753\n",
            "36705 51754\n",
            "36705 51755\n",
            "36705 51756\n",
            "36705 51757\n",
            "36705 51758\n",
            "36705 51759\n",
            "36705 51760\n",
            "36705 51761\n",
            "36705 51762\n",
            "36705 51763\n",
            "36705 51764\n",
            "36705 51765\n",
            "36706 51748\n",
            "36706 51749\n",
            "36706 51750\n",
            "36706 51751\n",
            "36706 51752\n",
            "36706 51753\n",
            "36706 51754\n",
            "36706 51755\n",
            "36706 51756\n",
            "36706 51757\n",
            "36706 51758\n",
            "36706 51759\n",
            "36706 51760\n",
            "36706 51761\n",
            "36706 51762\n",
            "36706 51763\n",
            "36706 51764\n",
            "36706 51765\n",
            "36707 51748\n",
            "36707 51749\n",
            "36707 51750\n",
            "36707 51751\n",
            "36707 51752\n",
            "36707 51753\n",
            "36707 51754\n",
            "36707 51755\n",
            "36707 51756\n",
            "36707 51757\n",
            "36707 51758\n",
            "36707 51759\n",
            "36707 51760\n",
            "36707 51761\n",
            "36707 51762\n",
            "36707 51763\n",
            "36707 51764\n",
            "36707 51765\n",
            "36708 51748\n",
            "36708 51749\n",
            "36708 51750\n",
            "36708 51751\n",
            "36708 51752\n",
            "36708 51753\n",
            "36708 51754\n",
            "36708 51755\n",
            "36708 51756\n",
            "36708 51757\n",
            "36708 51758\n",
            "36708 51759\n",
            "36708 51760\n",
            "36708 51761\n",
            "36708 51762\n",
            "36708 51763\n",
            "36708 51764\n",
            "36708 51765\n",
            "36709 51748\n",
            "36709 51749\n",
            "36709 51750\n",
            "36709 51751\n",
            "36709 51752\n",
            "36709 51753\n",
            "36709 51754\n",
            "36709 51755\n",
            "36709 51756\n",
            "36709 51757\n",
            "36709 51758\n",
            "36709 51759\n",
            "36709 51760\n",
            "36709 51761\n",
            "36709 51762\n",
            "36709 51763\n",
            "36709 51764\n",
            "36709 51765\n",
            "36710 51748\n",
            "36710 51749\n",
            "36710 51750\n",
            "36710 51751\n",
            "36710 51752\n",
            "36710 51753\n",
            "36710 51754\n",
            "36710 51755\n",
            "36710 51756\n",
            "36710 51757\n",
            "36710 51758\n",
            "36710 51759\n",
            "36710 51760\n",
            "36710 51761\n",
            "36710 51762\n",
            "36710 51763\n",
            "36710 51764\n",
            "36710 51765\n",
            "36711 51748\n",
            "36711 51749\n",
            "36711 51750\n",
            "36711 51751\n",
            "36711 51752\n",
            "36711 51753\n",
            "36711 51754\n",
            "36711 51755\n",
            "36711 51756\n",
            "36711 51757\n",
            "36711 51758\n",
            "36711 51759\n",
            "36711 51760\n",
            "36711 51761\n",
            "36711 51762\n",
            "36711 51763\n",
            "36711 51764\n",
            "36711 51765\n",
            "36712 51748\n",
            "36712 51749\n",
            "36712 51750\n",
            "36712 51751\n",
            "36712 51752\n",
            "36712 51753\n",
            "36712 51754\n",
            "36712 51755\n",
            "36712 51756\n",
            "36712 51757\n",
            "36712 51758\n",
            "36712 51759\n",
            "36712 51760\n",
            "36712 51761\n",
            "36712 51762\n",
            "36712 51763\n",
            "36712 51764\n",
            "36712 51765\n",
            "36713 51748\n",
            "36713 51749\n",
            "36713 51750\n",
            "36713 51751\n",
            "36713 51752\n",
            "36713 51753\n",
            "36713 51754\n",
            "36713 51755\n",
            "36713 51756\n",
            "36713 51757\n",
            "36713 51758\n",
            "36713 51759\n",
            "36713 51760\n",
            "36713 51761\n",
            "36713 51762\n",
            "36713 51763\n",
            "36713 51764\n",
            "36713 51765\n",
            "36714 51748\n",
            "36714 51749\n",
            "36714 51750\n",
            "36714 51751\n",
            "36714 51752\n",
            "36714 51753\n",
            "36714 51754\n",
            "36714 51755\n",
            "36714 51756\n",
            "36714 51757\n",
            "36714 51758\n",
            "36714 51759\n",
            "36714 51760\n",
            "36714 51761\n",
            "36714 51762\n",
            "36714 51763\n",
            "36714 51764\n",
            "36714 51765\n",
            "36715 51748\n",
            "36715 51749\n",
            "36715 51750\n",
            "36715 51751\n",
            "36715 51752\n",
            "36715 51753\n",
            "36715 51754\n",
            "36715 51755\n",
            "36715 51756\n",
            "36715 51757\n",
            "36715 51758\n",
            "36715 51759\n",
            "36715 51760\n",
            "36715 51761\n",
            "36715 51762\n",
            "36715 51763\n",
            "36715 51764\n",
            "36715 51765\n",
            "36716 51748\n",
            "36716 51749\n",
            "36716 51750\n",
            "36716 51751\n",
            "36716 51752\n",
            "36716 51753\n",
            "36716 51754\n",
            "36716 51755\n",
            "36716 51756\n",
            "36716 51757\n",
            "36716 51758\n",
            "36716 51759\n",
            "36716 51760\n",
            "36716 51761\n",
            "36716 51762\n",
            "36716 51763\n",
            "36716 51764\n",
            "36716 51765\n",
            "36717 51748\n",
            "36717 51749\n",
            "36717 51750\n",
            "36717 51751\n",
            "36717 51752\n",
            "36717 51753\n",
            "36717 51754\n",
            "36717 51755\n",
            "36717 51756\n",
            "36717 51757\n",
            "36717 51758\n",
            "36717 51759\n",
            "36717 51760\n",
            "36717 51761\n",
            "36717 51762\n",
            "36717 51763\n",
            "36717 51764\n",
            "36717 51765\n"
          ]
        }
      ]
    },
    {
      "cell_type": "code",
      "source": [],
      "metadata": {
        "id": "zRD4POb-VPv3"
      },
      "execution_count": null,
      "outputs": []
    }
  ]
}